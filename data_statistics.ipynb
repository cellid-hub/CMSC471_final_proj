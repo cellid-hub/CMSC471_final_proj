{
 "cells": [
  {
   "cell_type": "code",
   "execution_count": 1,
   "id": "e3b0667a-552a-4455-a40e-7ac70c7cd658",
   "metadata": {},
   "outputs": [],
   "source": [
    "import pandas as pd"
   ]
  },
  {
   "cell_type": "code",
   "execution_count": 51,
   "id": "8a31d94b-b901-40a8-8186-3c7669409841",
   "metadata": {},
   "outputs": [],
   "source": [
    "country_data = pd.read_csv(\"CLEANED_assignment_3_dataset.csv\")\n",
    "means = country_data.groupby([\"Country\"]).mean().reset_index().drop(['Year'],axis=1)\n",
    "correlation_matrix = means.corr()"
   ]
  },
  {
   "cell_type": "code",
   "execution_count": 52,
   "id": "cb2b8d61-bd28-4e76-a01e-80b204cc7233",
   "metadata": {},
   "outputs": [],
   "source": [
    "means.to_csv('country_means.csv',index=False)\n",
    "correlation_matrix.to_csv('category_correlations.csv',index=False)"
   ]
  },
  {
   "cell_type": "code",
   "execution_count": null,
   "id": "5c8fc9c9-e7f4-4032-bfeb-22890a1966d4",
   "metadata": {},
   "outputs": [],
   "source": []
  }
 ],
 "metadata": {
  "kernelspec": {
   "display_name": "Python 3 (ipykernel)",
   "language": "python",
   "name": "python3"
  },
  "language_info": {
   "codemirror_mode": {
    "name": "ipython",
    "version": 3
   },
   "file_extension": ".py",
   "mimetype": "text/x-python",
   "name": "python",
   "nbconvert_exporter": "python",
   "pygments_lexer": "ipython3",
   "version": "3.9.0"
  }
 },
 "nbformat": 4,
 "nbformat_minor": 5
}
